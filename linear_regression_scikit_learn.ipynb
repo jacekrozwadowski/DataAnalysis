{
 "cells": [
  {
   "cell_type": "markdown",
   "metadata": {},
   "source": [
    "# Regresja liniowa\n",
    "\n",
    "20 listopad 2017\n",
    "\n",
    "#### Wstęp\n",
    "\n",
    "Regresja linionowa jest jedną z prostszych metod przewidywania wartości oczekiwanej y na podstawie wartości innej zmiennej x. Ujmując problem inaczej można powiedzieć, że regresja liniowa opisuje jak jedna lub kilka zmiennych x determinuje zmienną przewidywaną y. W praktyce sprowadza się to do prostego pytania jak przewidzieć wartość zmiennej mając do dyspozycji zbiór innych zmiennych. \n",
    "\n",
    "Regresja liniowa jest metodą, która w odróżnieniu od wielu innych nie tylko przewiduje wartość zmiennej wyjściowej ale również mówi jaki wpływ na zmienną wyjściową mają poszczególne zmienne wejściowe.\n",
    "\n",
    "Choć model zakłada niezależność zmiennych wejściowych oraz liniową zależność zmiennej wyjściowej czyli przewidywanej od zmiennych wejściowych, model można stosować w wielu rzeczywistych przypadkach.\n",
    "\n",
    "Prezentowany materiał zakłada znajomość podstaw pythona i statystyki.\n",
    "\n",
    "\n",
    "#### Narzędzia\n",
    "\n",
    "Do budowy modelu, analizy i prezentacji wyników użyty zostanie pakiet narzędzi scikit-learn, numpy, pandas oraz matplotlib.\n",
    "\n",
    "---"
   ]
  },
  {
   "cell_type": "markdown",
   "metadata": {},
   "source": [
    "*Importujemy wszystkie potrzebne biblioteki*"
   ]
  },
  {
   "cell_type": "code",
   "execution_count": 1,
   "metadata": {},
   "outputs": [],
   "source": [
    "%matplotlib inline\n",
    "\n",
    "import matplotlib\n",
    "import matplotlib.pyplot as plt\n",
    "import numpy as np\n",
    "from sklearn import datasets, linear_model\n",
    "import sklearn\n",
    "import pandas as pd"
   ]
  },
  {
   "cell_type": "markdown",
   "metadata": {},
   "source": [
    "*Dane wejściowe pochodzą ze zbioru danych języka R (Rdatasets) i dotyczą cen sprzedaży domów w mieście Windsor (Sales Prices of Houses in the City of Windsor).*\n",
    "\n",
    "*Poniżej prezentuję opis wszystkich zmiennych zbioru danych:*\n",
    "\n",
    "<p>A dataframe containing :\n",
    "</p>\n",
    "\n",
    "<dl>\n",
    "<dt>price</dt><dd><p>sale price of a house</p>\n",
    "</dd>\n",
    "<dt>lotsize</dt><dd><p>the lot size of a property in square feet</p>\n",
    "</dd>\n",
    "<dt>bedrooms</dt><dd><p>number of bedrooms</p>\n",
    "</dd>\n",
    "<dt>bathrms</dt><dd><p>number of full bathrooms</p>\n",
    "</dd>\n",
    "<dt>stories</dt><dd><p>number of stories excluding basement</p>\n",
    "</dd>\n",
    "<dt>driveway</dt><dd><p>does the house has a driveway ?</p>\n",
    "</dd>\n",
    "<dt>recroom</dt><dd><p>does the house has a recreational room ?</p>\n",
    "</dd>\n",
    "<dt>fullbase</dt><dd><p>does the house has a full finished basement ?</p>\n",
    "</dd>\n",
    "<dt>gashw</dt><dd><p>does the house uses gas for hot water heating ?</p>\n",
    "</dd>\n",
    "<dt>airco</dt><dd><p>does the house has central air conditioning ?</p>\n",
    "</dd>\n",
    "<dt>garagepl</dt><dd><p>number of garage places</p>\n",
    "</dd>\n",
    "<dt>prefarea</dt><dd><p>is the house located in the preferred neighbourhood of the city ?</p>\n",
    "</dd>\n",
    "</dl>"
   ]
  },
  {
   "cell_type": "markdown",
   "metadata": {},
   "source": [
    "*W tym kroku ładujemy dane do tabeli (DataFrame)*"
   ]
  },
  {
   "cell_type": "code",
   "execution_count": 2,
   "metadata": {},
   "outputs": [],
   "source": [
    "# Load CSV and columns\n",
    "df = pd.read_csv(\"./data/Housing.csv\")"
   ]
  },
  {
   "cell_type": "markdown",
   "metadata": {},
   "source": [
    "*Kolumna price jest naszą zmienną którą będziemy chcieli przewidywać. Reszta z nich to dane wejściowe, które posłużą nam do przewidywania ceny domu*"
   ]
  },
  {
   "cell_type": "code",
   "execution_count": 3,
   "metadata": {},
   "outputs": [
    {
     "data": {
      "text/html": [
       "<div>\n",
       "<style scoped>\n",
       "    .dataframe tbody tr th:only-of-type {\n",
       "        vertical-align: middle;\n",
       "    }\n",
       "\n",
       "    .dataframe tbody tr th {\n",
       "        vertical-align: top;\n",
       "    }\n",
       "\n",
       "    .dataframe thead th {\n",
       "        text-align: right;\n",
       "    }\n",
       "</style>\n",
       "<table border=\"1\" class=\"dataframe\">\n",
       "  <thead>\n",
       "    <tr style=\"text-align: right;\">\n",
       "      <th></th>\n",
       "      <th>Unnamed: 0</th>\n",
       "      <th>price</th>\n",
       "      <th>lotsize</th>\n",
       "      <th>bedrooms</th>\n",
       "      <th>bathrms</th>\n",
       "      <th>stories</th>\n",
       "      <th>driveway</th>\n",
       "      <th>recroom</th>\n",
       "      <th>fullbase</th>\n",
       "      <th>gashw</th>\n",
       "      <th>airco</th>\n",
       "      <th>garagepl</th>\n",
       "      <th>prefarea</th>\n",
       "    </tr>\n",
       "  </thead>\n",
       "  <tbody>\n",
       "    <tr>\n",
       "      <th>0</th>\n",
       "      <td>1</td>\n",
       "      <td>42000.0</td>\n",
       "      <td>5850</td>\n",
       "      <td>3</td>\n",
       "      <td>1</td>\n",
       "      <td>2</td>\n",
       "      <td>yes</td>\n",
       "      <td>no</td>\n",
       "      <td>yes</td>\n",
       "      <td>no</td>\n",
       "      <td>no</td>\n",
       "      <td>1</td>\n",
       "      <td>no</td>\n",
       "    </tr>\n",
       "    <tr>\n",
       "      <th>1</th>\n",
       "      <td>2</td>\n",
       "      <td>38500.0</td>\n",
       "      <td>4000</td>\n",
       "      <td>2</td>\n",
       "      <td>1</td>\n",
       "      <td>1</td>\n",
       "      <td>yes</td>\n",
       "      <td>no</td>\n",
       "      <td>no</td>\n",
       "      <td>no</td>\n",
       "      <td>no</td>\n",
       "      <td>0</td>\n",
       "      <td>no</td>\n",
       "    </tr>\n",
       "    <tr>\n",
       "      <th>2</th>\n",
       "      <td>3</td>\n",
       "      <td>49500.0</td>\n",
       "      <td>3060</td>\n",
       "      <td>3</td>\n",
       "      <td>1</td>\n",
       "      <td>1</td>\n",
       "      <td>yes</td>\n",
       "      <td>no</td>\n",
       "      <td>no</td>\n",
       "      <td>no</td>\n",
       "      <td>no</td>\n",
       "      <td>0</td>\n",
       "      <td>no</td>\n",
       "    </tr>\n",
       "    <tr>\n",
       "      <th>3</th>\n",
       "      <td>4</td>\n",
       "      <td>60500.0</td>\n",
       "      <td>6650</td>\n",
       "      <td>3</td>\n",
       "      <td>1</td>\n",
       "      <td>2</td>\n",
       "      <td>yes</td>\n",
       "      <td>yes</td>\n",
       "      <td>no</td>\n",
       "      <td>no</td>\n",
       "      <td>no</td>\n",
       "      <td>0</td>\n",
       "      <td>no</td>\n",
       "    </tr>\n",
       "    <tr>\n",
       "      <th>4</th>\n",
       "      <td>5</td>\n",
       "      <td>61000.0</td>\n",
       "      <td>6360</td>\n",
       "      <td>2</td>\n",
       "      <td>1</td>\n",
       "      <td>1</td>\n",
       "      <td>yes</td>\n",
       "      <td>no</td>\n",
       "      <td>no</td>\n",
       "      <td>no</td>\n",
       "      <td>no</td>\n",
       "      <td>0</td>\n",
       "      <td>no</td>\n",
       "    </tr>\n",
       "  </tbody>\n",
       "</table>\n",
       "</div>"
      ],
      "text/plain": [
       "   Unnamed: 0    price  lotsize  bedrooms  bathrms  stories driveway recroom  \\\n",
       "0           1  42000.0     5850         3        1        2      yes      no   \n",
       "1           2  38500.0     4000         2        1        1      yes      no   \n",
       "2           3  49500.0     3060         3        1        1      yes      no   \n",
       "3           4  60500.0     6650         3        1        2      yes     yes   \n",
       "4           5  61000.0     6360         2        1        1      yes      no   \n",
       "\n",
       "  fullbase gashw airco  garagepl prefarea  \n",
       "0      yes    no    no         1       no  \n",
       "1       no    no    no         0       no  \n",
       "2       no    no    no         0       no  \n",
       "3       no    no    no         0       no  \n",
       "4       no    no    no         0       no  "
      ]
     },
     "execution_count": 3,
     "metadata": {},
     "output_type": "execute_result"
    }
   ],
   "source": [
    "df.head(n=5)"
   ]
  },
  {
   "cell_type": "markdown",
   "metadata": {},
   "source": [
    "*Przed przystąpieniem do budowy modelu z naszej tabeli danych pobieramy daną wyjściową i zapisujemy ją do zmiennej Y. W zmiennej X będą przechowywane dane wejściowe. Musimy najpierw usunąć zmienną wyjściową oraz zmienną \"Unnamed: 0\"*"
   ]
  },
  {
   "cell_type": "code",
   "execution_count": 4,
   "metadata": {},
   "outputs": [
    {
     "data": {
      "text/html": [
       "<div>\n",
       "<style scoped>\n",
       "    .dataframe tbody tr th:only-of-type {\n",
       "        vertical-align: middle;\n",
       "    }\n",
       "\n",
       "    .dataframe tbody tr th {\n",
       "        vertical-align: top;\n",
       "    }\n",
       "\n",
       "    .dataframe thead th {\n",
       "        text-align: right;\n",
       "    }\n",
       "</style>\n",
       "<table border=\"1\" class=\"dataframe\">\n",
       "  <thead>\n",
       "    <tr style=\"text-align: right;\">\n",
       "      <th></th>\n",
       "      <th>lotsize</th>\n",
       "      <th>bedrooms</th>\n",
       "      <th>bathrms</th>\n",
       "      <th>stories</th>\n",
       "      <th>driveway</th>\n",
       "      <th>recroom</th>\n",
       "      <th>fullbase</th>\n",
       "      <th>gashw</th>\n",
       "      <th>airco</th>\n",
       "      <th>garagepl</th>\n",
       "      <th>prefarea</th>\n",
       "    </tr>\n",
       "  </thead>\n",
       "  <tbody>\n",
       "    <tr>\n",
       "      <th>0</th>\n",
       "      <td>5850</td>\n",
       "      <td>3</td>\n",
       "      <td>1</td>\n",
       "      <td>2</td>\n",
       "      <td>yes</td>\n",
       "      <td>no</td>\n",
       "      <td>yes</td>\n",
       "      <td>no</td>\n",
       "      <td>no</td>\n",
       "      <td>1</td>\n",
       "      <td>no</td>\n",
       "    </tr>\n",
       "    <tr>\n",
       "      <th>1</th>\n",
       "      <td>4000</td>\n",
       "      <td>2</td>\n",
       "      <td>1</td>\n",
       "      <td>1</td>\n",
       "      <td>yes</td>\n",
       "      <td>no</td>\n",
       "      <td>no</td>\n",
       "      <td>no</td>\n",
       "      <td>no</td>\n",
       "      <td>0</td>\n",
       "      <td>no</td>\n",
       "    </tr>\n",
       "    <tr>\n",
       "      <th>2</th>\n",
       "      <td>3060</td>\n",
       "      <td>3</td>\n",
       "      <td>1</td>\n",
       "      <td>1</td>\n",
       "      <td>yes</td>\n",
       "      <td>no</td>\n",
       "      <td>no</td>\n",
       "      <td>no</td>\n",
       "      <td>no</td>\n",
       "      <td>0</td>\n",
       "      <td>no</td>\n",
       "    </tr>\n",
       "    <tr>\n",
       "      <th>3</th>\n",
       "      <td>6650</td>\n",
       "      <td>3</td>\n",
       "      <td>1</td>\n",
       "      <td>2</td>\n",
       "      <td>yes</td>\n",
       "      <td>yes</td>\n",
       "      <td>no</td>\n",
       "      <td>no</td>\n",
       "      <td>no</td>\n",
       "      <td>0</td>\n",
       "      <td>no</td>\n",
       "    </tr>\n",
       "    <tr>\n",
       "      <th>4</th>\n",
       "      <td>6360</td>\n",
       "      <td>2</td>\n",
       "      <td>1</td>\n",
       "      <td>1</td>\n",
       "      <td>yes</td>\n",
       "      <td>no</td>\n",
       "      <td>no</td>\n",
       "      <td>no</td>\n",
       "      <td>no</td>\n",
       "      <td>0</td>\n",
       "      <td>no</td>\n",
       "    </tr>\n",
       "  </tbody>\n",
       "</table>\n",
       "</div>"
      ],
      "text/plain": [
       "   lotsize  bedrooms  bathrms  stories driveway recroom fullbase gashw airco  \\\n",
       "0     5850         3        1        2      yes      no      yes    no    no   \n",
       "1     4000         2        1        1      yes      no       no    no    no   \n",
       "2     3060         3        1        1      yes      no       no    no    no   \n",
       "3     6650         3        1        2      yes     yes       no    no    no   \n",
       "4     6360         2        1        1      yes      no       no    no    no   \n",
       "\n",
       "   garagepl prefarea  \n",
       "0         1       no  \n",
       "1         0       no  \n",
       "2         0       no  \n",
       "3         0       no  \n",
       "4         0       no  "
      ]
     },
     "execution_count": 4,
     "metadata": {},
     "output_type": "execute_result"
    }
   ],
   "source": [
    "from sklearn.linear_model import LinearRegression\n",
    "Y = df['price']\n",
    "X = df.drop('price', axis=1)\n",
    "X = X.drop('Unnamed: 0', axis=1)\n",
    "X.head(n=5)"
   ]
  },
  {
   "cell_type": "markdown",
   "metadata": {},
   "source": [
    "*Jak widzimy dane wejściowe zawierają zmienne jakościowe. W takim przypadku należy je przekształcić na zmienne wskaźnikowe*"
   ]
  },
  {
   "cell_type": "code",
   "execution_count": 5,
   "metadata": {},
   "outputs": [
    {
     "data": {
      "text/html": [
       "<div>\n",
       "<style scoped>\n",
       "    .dataframe tbody tr th:only-of-type {\n",
       "        vertical-align: middle;\n",
       "    }\n",
       "\n",
       "    .dataframe tbody tr th {\n",
       "        vertical-align: top;\n",
       "    }\n",
       "\n",
       "    .dataframe thead th {\n",
       "        text-align: right;\n",
       "    }\n",
       "</style>\n",
       "<table border=\"1\" class=\"dataframe\">\n",
       "  <thead>\n",
       "    <tr style=\"text-align: right;\">\n",
       "      <th></th>\n",
       "      <th>lotsize</th>\n",
       "      <th>bedrooms</th>\n",
       "      <th>bathrms</th>\n",
       "      <th>stories</th>\n",
       "      <th>garagepl</th>\n",
       "      <th>driveway_no</th>\n",
       "      <th>driveway_yes</th>\n",
       "      <th>recroom_no</th>\n",
       "      <th>recroom_yes</th>\n",
       "      <th>fullbase_no</th>\n",
       "      <th>fullbase_yes</th>\n",
       "      <th>gashw_no</th>\n",
       "      <th>gashw_yes</th>\n",
       "      <th>airco_no</th>\n",
       "      <th>airco_yes</th>\n",
       "      <th>prefarea_no</th>\n",
       "      <th>prefarea_yes</th>\n",
       "    </tr>\n",
       "  </thead>\n",
       "  <tbody>\n",
       "    <tr>\n",
       "      <th>0</th>\n",
       "      <td>5850</td>\n",
       "      <td>3</td>\n",
       "      <td>1</td>\n",
       "      <td>2</td>\n",
       "      <td>1</td>\n",
       "      <td>0</td>\n",
       "      <td>1</td>\n",
       "      <td>1</td>\n",
       "      <td>0</td>\n",
       "      <td>0</td>\n",
       "      <td>1</td>\n",
       "      <td>1</td>\n",
       "      <td>0</td>\n",
       "      <td>1</td>\n",
       "      <td>0</td>\n",
       "      <td>1</td>\n",
       "      <td>0</td>\n",
       "    </tr>\n",
       "    <tr>\n",
       "      <th>1</th>\n",
       "      <td>4000</td>\n",
       "      <td>2</td>\n",
       "      <td>1</td>\n",
       "      <td>1</td>\n",
       "      <td>0</td>\n",
       "      <td>0</td>\n",
       "      <td>1</td>\n",
       "      <td>1</td>\n",
       "      <td>0</td>\n",
       "      <td>1</td>\n",
       "      <td>0</td>\n",
       "      <td>1</td>\n",
       "      <td>0</td>\n",
       "      <td>1</td>\n",
       "      <td>0</td>\n",
       "      <td>1</td>\n",
       "      <td>0</td>\n",
       "    </tr>\n",
       "    <tr>\n",
       "      <th>2</th>\n",
       "      <td>3060</td>\n",
       "      <td>3</td>\n",
       "      <td>1</td>\n",
       "      <td>1</td>\n",
       "      <td>0</td>\n",
       "      <td>0</td>\n",
       "      <td>1</td>\n",
       "      <td>1</td>\n",
       "      <td>0</td>\n",
       "      <td>1</td>\n",
       "      <td>0</td>\n",
       "      <td>1</td>\n",
       "      <td>0</td>\n",
       "      <td>1</td>\n",
       "      <td>0</td>\n",
       "      <td>1</td>\n",
       "      <td>0</td>\n",
       "    </tr>\n",
       "    <tr>\n",
       "      <th>3</th>\n",
       "      <td>6650</td>\n",
       "      <td>3</td>\n",
       "      <td>1</td>\n",
       "      <td>2</td>\n",
       "      <td>0</td>\n",
       "      <td>0</td>\n",
       "      <td>1</td>\n",
       "      <td>0</td>\n",
       "      <td>1</td>\n",
       "      <td>1</td>\n",
       "      <td>0</td>\n",
       "      <td>1</td>\n",
       "      <td>0</td>\n",
       "      <td>1</td>\n",
       "      <td>0</td>\n",
       "      <td>1</td>\n",
       "      <td>0</td>\n",
       "    </tr>\n",
       "    <tr>\n",
       "      <th>4</th>\n",
       "      <td>6360</td>\n",
       "      <td>2</td>\n",
       "      <td>1</td>\n",
       "      <td>1</td>\n",
       "      <td>0</td>\n",
       "      <td>0</td>\n",
       "      <td>1</td>\n",
       "      <td>1</td>\n",
       "      <td>0</td>\n",
       "      <td>1</td>\n",
       "      <td>0</td>\n",
       "      <td>1</td>\n",
       "      <td>0</td>\n",
       "      <td>1</td>\n",
       "      <td>0</td>\n",
       "      <td>1</td>\n",
       "      <td>0</td>\n",
       "    </tr>\n",
       "  </tbody>\n",
       "</table>\n",
       "</div>"
      ],
      "text/plain": [
       "   lotsize  bedrooms  bathrms  stories  garagepl  driveway_no  driveway_yes  \\\n",
       "0     5850         3        1        2         1            0             1   \n",
       "1     4000         2        1        1         0            0             1   \n",
       "2     3060         3        1        1         0            0             1   \n",
       "3     6650         3        1        2         0            0             1   \n",
       "4     6360         2        1        1         0            0             1   \n",
       "\n",
       "   recroom_no  recroom_yes  fullbase_no  fullbase_yes  gashw_no  gashw_yes  \\\n",
       "0           1            0            0             1         1          0   \n",
       "1           1            0            1             0         1          0   \n",
       "2           1            0            1             0         1          0   \n",
       "3           0            1            1             0         1          0   \n",
       "4           1            0            1             0         1          0   \n",
       "\n",
       "   airco_no  airco_yes  prefarea_no  prefarea_yes  \n",
       "0         1          0            1             0  \n",
       "1         1          0            1             0  \n",
       "2         1          0            1             0  \n",
       "3         1          0            1             0  \n",
       "4         1          0            1             0  "
      ]
     },
     "execution_count": 5,
     "metadata": {},
     "output_type": "execute_result"
    }
   ],
   "source": [
    "cols_to_transform = [ 'driveway', 'recroom', 'fullbase', 'gashw', 'airco', 'prefarea' ]\n",
    "X_conv = pd.get_dummies(X, columns = cols_to_transform )\n",
    "X_conv.head(n=5)"
   ]
  },
  {
   "cell_type": "markdown",
   "metadata": {},
   "source": [
    "*Tworzymy model regresji liniowej a następnie budujemy go*"
   ]
  },
  {
   "cell_type": "code",
   "execution_count": 6,
   "metadata": {},
   "outputs": [
    {
     "data": {
      "text/plain": [
       "LinearRegression(copy_X=True, fit_intercept=True, n_jobs=1, normalize=False)"
      ]
     },
     "execution_count": 6,
     "metadata": {},
     "output_type": "execute_result"
    }
   ],
   "source": [
    "lm = LinearRegression()\n",
    "lm.fit(X_conv, Y)"
   ]
  },
  {
   "cell_type": "markdown",
   "metadata": {},
   "source": [
    "*Pierwsza wartość (Intercept) jest teoretyczną ceną nieruchomości przy której wszystkie zmienne wejściowe są równe zeru. Druga mówi nam o ilości zmiennych wejściowych* "
   ]
  },
  {
   "cell_type": "code",
   "execution_count": 7,
   "metadata": {},
   "outputs": [
    {
     "name": "stdout",
     "output_type": "stream",
     "text": [
      "Intercept:  21704.278658\n",
      "Number of coefficients: 17\n"
     ]
    }
   ],
   "source": [
    "print('Intercept: ', lm.intercept_)\n",
    "print('Number of coefficients:', len(lm.coef_))"
   ]
  },
  {
   "cell_type": "markdown",
   "metadata": {},
   "source": [
    "*Jedno z ciekawszych miejsc analizy. Zbudowany model pozwala na oszacowanie wpływu poszczególnych zmiennych na cenę nieruchomości*\n",
    "\n",
    "*I tak wielkość powierzchnii (lotsize) przekłada się na ceną w taki sposób, że jedna stopa kwadratowa podnosi cenę o 3.5 dolara. Każda dodatkowa sypialnia (bedrooms) podnosi wartość o 1832 dolary a obecność podjazdu (driveway_yes) podnosi wartość nieruchomości o 3343 dolary*"
   ]
  },
  {
   "cell_type": "code",
   "execution_count": 8,
   "metadata": {},
   "outputs": [
    {
     "data": {
      "text/html": [
       "<div>\n",
       "<style scoped>\n",
       "    .dataframe tbody tr th:only-of-type {\n",
       "        vertical-align: middle;\n",
       "    }\n",
       "\n",
       "    .dataframe tbody tr th {\n",
       "        vertical-align: top;\n",
       "    }\n",
       "\n",
       "    .dataframe thead th {\n",
       "        text-align: right;\n",
       "    }\n",
       "</style>\n",
       "<table border=\"1\" class=\"dataframe\">\n",
       "  <thead>\n",
       "    <tr style=\"text-align: right;\">\n",
       "      <th></th>\n",
       "      <th>feature</th>\n",
       "      <th>estimatedCoefficients</th>\n",
       "    </tr>\n",
       "  </thead>\n",
       "  <tbody>\n",
       "    <tr>\n",
       "      <th>0</th>\n",
       "      <td>lotsize</td>\n",
       "      <td>3.546303</td>\n",
       "    </tr>\n",
       "    <tr>\n",
       "      <th>1</th>\n",
       "      <td>bedrooms</td>\n",
       "      <td>1832.003466</td>\n",
       "    </tr>\n",
       "    <tr>\n",
       "      <th>2</th>\n",
       "      <td>bathrms</td>\n",
       "      <td>14335.558468</td>\n",
       "    </tr>\n",
       "    <tr>\n",
       "      <th>3</th>\n",
       "      <td>stories</td>\n",
       "      <td>6556.945711</td>\n",
       "    </tr>\n",
       "    <tr>\n",
       "      <th>4</th>\n",
       "      <td>garagepl</td>\n",
       "      <td>4244.829004</td>\n",
       "    </tr>\n",
       "    <tr>\n",
       "      <th>5</th>\n",
       "      <td>driveway_no</td>\n",
       "      <td>-3343.889445</td>\n",
       "    </tr>\n",
       "    <tr>\n",
       "      <th>6</th>\n",
       "      <td>driveway_yes</td>\n",
       "      <td>3343.889445</td>\n",
       "    </tr>\n",
       "    <tr>\n",
       "      <th>7</th>\n",
       "      <td>recroom_no</td>\n",
       "      <td>-2255.641913</td>\n",
       "    </tr>\n",
       "    <tr>\n",
       "      <th>8</th>\n",
       "      <td>recroom_yes</td>\n",
       "      <td>2255.641913</td>\n",
       "    </tr>\n",
       "    <tr>\n",
       "      <th>9</th>\n",
       "      <td>fullbase_no</td>\n",
       "      <td>-2726.192770</td>\n",
       "    </tr>\n",
       "    <tr>\n",
       "      <th>10</th>\n",
       "      <td>fullbase_yes</td>\n",
       "      <td>2726.192770</td>\n",
       "    </tr>\n",
       "    <tr>\n",
       "      <th>11</th>\n",
       "      <td>gashw_no</td>\n",
       "      <td>-6415.703133</td>\n",
       "    </tr>\n",
       "    <tr>\n",
       "      <th>12</th>\n",
       "      <td>gashw_yes</td>\n",
       "      <td>6415.703133</td>\n",
       "    </tr>\n",
       "    <tr>\n",
       "      <th>13</th>\n",
       "      <td>airco_no</td>\n",
       "      <td>-6316.445202</td>\n",
       "    </tr>\n",
       "    <tr>\n",
       "      <th>14</th>\n",
       "      <td>airco_yes</td>\n",
       "      <td>6316.445202</td>\n",
       "    </tr>\n",
       "    <tr>\n",
       "      <th>15</th>\n",
       "      <td>prefarea_no</td>\n",
       "      <td>-4684.756619</td>\n",
       "    </tr>\n",
       "    <tr>\n",
       "      <th>16</th>\n",
       "      <td>prefarea_yes</td>\n",
       "      <td>4684.756619</td>\n",
       "    </tr>\n",
       "  </tbody>\n",
       "</table>\n",
       "</div>"
      ],
      "text/plain": [
       "         feature  estimatedCoefficients\n",
       "0        lotsize               3.546303\n",
       "1       bedrooms            1832.003466\n",
       "2        bathrms           14335.558468\n",
       "3        stories            6556.945711\n",
       "4       garagepl            4244.829004\n",
       "5    driveway_no           -3343.889445\n",
       "6   driveway_yes            3343.889445\n",
       "7     recroom_no           -2255.641913\n",
       "8    recroom_yes            2255.641913\n",
       "9    fullbase_no           -2726.192770\n",
       "10  fullbase_yes            2726.192770\n",
       "11      gashw_no           -6415.703133\n",
       "12     gashw_yes            6415.703133\n",
       "13      airco_no           -6316.445202\n",
       "14     airco_yes            6316.445202\n",
       "15   prefarea_no           -4684.756619\n",
       "16  prefarea_yes            4684.756619"
      ]
     },
     "execution_count": 8,
     "metadata": {},
     "output_type": "execute_result"
    }
   ],
   "source": [
    "pd.DataFrame(list(zip(X_conv.columns, lm.coef_)), columns = ['feature','estimatedCoefficients'])"
   ]
  },
  {
   "cell_type": "markdown",
   "metadata": {},
   "source": [
    "*Poniższy wykres prezentuje zależność ceny (Y) od wielkości nieruchomości*"
   ]
  },
  {
   "cell_type": "code",
   "execution_count": 9,
   "metadata": {},
   "outputs": [
    {
     "data": {
      "image/png": "[encoded data removed]",
      "text/plain": [
       "<matplotlib.figure.Figure at 0x7fe362236a90>"
      ]
     },
     "metadata": {},
     "output_type": "display_data"
    }
   ],
   "source": [
    "plt.scatter(X_conv.lotsize, Y)\n",
    "plt.xlabel('lotsize')\n",
    "plt.ylabel('Price')\n",
    "plt.title('Relationship between lotsize and Price')\n",
    "\n",
    "plt.show()"
   ]
  },
  {
   "cell_type": "markdown",
   "metadata": {},
   "source": [
    "*Predykcja zmiennej wyjściowej to proste wywołanie funkcji predict na zbudowanych (fit) wcześniej modelu. Poniższa tabela prezentuje zestawienie zniennej przewidywanej i rzeczywistej dla kilku pierwszych nieruchomości*"
   ]
  },
  {
   "cell_type": "code",
   "execution_count": 10,
   "metadata": {},
   "outputs": [
    {
     "data": {
      "text/html": [
       "<div>\n",
       "<style scoped>\n",
       "    .dataframe tbody tr th:only-of-type {\n",
       "        vertical-align: middle;\n",
       "    }\n",
       "\n",
       "    .dataframe tbody tr th {\n",
       "        vertical-align: top;\n",
       "    }\n",
       "\n",
       "    .dataframe thead th {\n",
       "        text-align: right;\n",
       "    }\n",
       "</style>\n",
       "<table border=\"1\" class=\"dataframe\">\n",
       "  <thead>\n",
       "    <tr style=\"text-align: right;\">\n",
       "      <th></th>\n",
       "      <th>predicted</th>\n",
       "      <th>real</th>\n",
       "    </tr>\n",
       "  </thead>\n",
       "  <tbody>\n",
       "    <tr>\n",
       "      <th>0</th>\n",
       "      <td>66037.975672</td>\n",
       "      <td>42000.0</td>\n",
       "    </tr>\n",
       "    <tr>\n",
       "      <th>1</th>\n",
       "      <td>41391.151457</td>\n",
       "      <td>38500.0</td>\n",
       "    </tr>\n",
       "    <tr>\n",
       "      <th>2</th>\n",
       "      <td>39889.630131</td>\n",
       "      <td>49500.0</td>\n",
       "    </tr>\n",
       "    <tr>\n",
       "      <th>3</th>\n",
       "      <td>63689.087331</td>\n",
       "      <td>60500.0</td>\n",
       "    </tr>\n",
       "    <tr>\n",
       "      <th>4</th>\n",
       "      <td>49760.426466</td>\n",
       "      <td>61000.0</td>\n",
       "    </tr>\n",
       "  </tbody>\n",
       "</table>\n",
       "</div>"
      ],
      "text/plain": [
       "      predicted     real\n",
       "0  66037.975672  42000.0\n",
       "1  41391.151457  38500.0\n",
       "2  39889.630131  49500.0\n",
       "3  63689.087331  60500.0\n",
       "4  49760.426466  61000.0"
      ]
     },
     "execution_count": 10,
     "metadata": {},
     "output_type": "execute_result"
    }
   ],
   "source": [
    "pred = lm.predict(X_conv)\n",
    "\n",
    "pd.DataFrame(list(zip(pred[:5],Y[:5])), columns = ['predicted','real'])"
   ]
  },
  {
   "cell_type": "markdown",
   "metadata": {},
   "source": [
    "*A tak prezentuje się zależność pomiedzy zmienną rzeczywistą i przewidywaną*"
   ]
  },
  {
   "cell_type": "code",
   "execution_count": 11,
   "metadata": {},
   "outputs": [
    {
     "data": {
      "image/png": "[encoded data removed]",
      "text/plain": [
       "<matplotlib.figure.Figure at 0x7fe3601a85c0>"
      ]
     },
     "metadata": {},
     "output_type": "display_data"
    }
   ],
   "source": [
    "plt.scatter(Y, pred)\n",
    "plt.xlabel('Prices: $Y_i$')\n",
    "plt.ylabel('Predicted Prices: $\\hat{Y}_i$')\n",
    "plt.title('Prices vs Predicted Prices: $Y_i$ vs $\\hat{Y}_i$')\n",
    "\n",
    "plt.show()"
   ]
  },
  {
   "cell_type": "markdown",
   "metadata": {},
   "source": [
    "*A to ten sam wykres co powyżej ale wykonany przy użyciu pakietu Seaborn*"
   ]
  },
  {
   "cell_type": "code",
   "execution_count": 12,
   "metadata": {},
   "outputs": [
    {
     "data": {
      "text/plain": [
       "<seaborn.axisgrid.FacetGrid at 0x7fe3600f7da0>"
      ]
     },
     "execution_count": 12,
     "metadata": {},
     "output_type": "execute_result"
    },
    {
     "data": {
      "image/png": "[encoded data removed]",
      "text/plain": [
       "<matplotlib.figure.Figure at 0x7fe35f459978>"
      ]
     },
     "metadata": {},
     "output_type": "display_data"
    }
   ],
   "source": [
    "import seaborn as sns\n",
    "sns.set()\n",
    "\n",
    "houses = pd.DataFrame(list(zip(pred,Y)), columns = ['predicted_price','real_price'])\n",
    "\n",
    "g = sns.lmplot(x=\"real_price\", y=\"predicted_price\", #hue=\"species\",\n",
    "               truncate=False, size=8, data=houses)\n",
    "\n",
    "g.set_axis_labels(\"Prices: $Y_i$\", \"Predicted Prices: $\\hat{Y}_i$\")"
   ]
  },
  {
   "cell_type": "markdown",
   "metadata": {},
   "source": [
    "*Błąd średniokwadratowy (MSE, Mean Squared Error) jest jedną z miar jakości zbudowanego modelu*"
   ]
  },
  {
   "cell_type": "code",
   "execution_count": 13,
   "metadata": {},
   "outputs": [
    {
     "name": "stdout",
     "output_type": "stream",
     "text": [
      "MSE:  232,646,651\n"
     ]
    }
   ],
   "source": [
    "mseFull = np.mean( (Y-pred) ** 2)\n",
    "print(\"MSE: {0:12,.0f}\" .format(mseFull))"
   ]
  },
  {
   "cell_type": "markdown",
   "metadata": {},
   "source": [
    "*Budowanie modelu na całym zbiorze danych wejściowych jest metodologicznie błędne. Prawidłowym podejściem jest podział na zbiór treningowy i testowy*"
   ]
  },
  {
   "cell_type": "code",
   "execution_count": 14,
   "metadata": {},
   "outputs": [
    {
     "name": "stdout",
     "output_type": "stream",
     "text": [
      "Rozmiar pełnych danych wejściowych:      (546, 17)\n",
      "Rozmiar pełnych danych wyjściowych:      (546,)\n",
      "Rozmiar treningowych danych wejściowych: (365, 17)\n",
      "Rozmiar testowych danych wejściowych:    (181, 17)\n",
      "Rozmiar treningowych danych wyjściowych: (365,)\n",
      "Rozmiar testowych danych wejściowych:    (181,)\n"
     ]
    }
   ],
   "source": [
    "X_train, X_test, Y_train, Y_test = sklearn.model_selection.train_test_split(\n",
    "    X_conv, Y, test_size=0.33, random_state=5)\n",
    "\n",
    "print(\"Rozmiar pełnych danych wejściowych:      {}\".format(X_conv.shape))\n",
    "print(\"Rozmiar pełnych danych wyjściowych:      {}\".format(Y.shape))\n",
    "\n",
    "print(\"Rozmiar treningowych danych wejściowych: {}\".format(X_train.shape))\n",
    "print(\"Rozmiar testowych danych wejściowych:    {}\".format(X_test.shape))\n",
    "print(\"Rozmiar treningowych danych wyjściowych: {}\".format(Y_train.shape))\n",
    "print(\"Rozmiar testowych danych wejściowych:    {}\".format(Y_test.shape))"
   ]
  },
  {
   "cell_type": "markdown",
   "metadata": {},
   "source": [
    "*Po podziale danych model uczony jest na zbiorze danych treningowych*"
   ]
  },
  {
   "cell_type": "code",
   "execution_count": 15,
   "metadata": {},
   "outputs": [
    {
     "name": "stdout",
     "output_type": "stream",
     "text": [
      "Fit a model X_train, and calculate MSE with Y_train:  269,199,927\n",
      "Fit a model X_test, and calculate MSE with Y_test:  164,321,287\n"
     ]
    }
   ],
   "source": [
    "lm = LinearRegression()\n",
    "lm.fit(X_train, Y_train)\n",
    "pred_train = lm.predict(X_train)\n",
    "pred_test = lm.predict(X_test)\n",
    "\n",
    "print(\"Fit a model X_train, and calculate MSE with Y_train: {0:12,.0f}\" .format(np.mean((Y_train - pred_train) ** 2)))\n",
    "print(\"Fit a model X_test, and calculate MSE with Y_test: {0:12,.0f}\" .format(np.mean((Y_test - pred_test) ** 2)))"
   ]
  },
  {
   "cell_type": "markdown",
   "metadata": {},
   "source": [
    "*Jednym ze sposobów oceny jakości modelu jest wyznaczenie reszt modelu - różnicy pomiędzy wartościami wyznaczanymi przez model a wartościami rzeczywistymi. Rozkład reszt powinien być normalny czyli w praktyce punkty na wykresie powinny być losowo rozrzucone wokół osi x*"
   ]
  },
  {
   "cell_type": "code",
   "execution_count": 16,
   "metadata": {},
   "outputs": [
    {
     "data": {
      "text/plain": [
       "Text(0,0.5,'Residuals')"
      ]
     },
     "execution_count": 16,
     "metadata": {},
     "output_type": "execute_result"
    },
    {
     "data": {
      "image/png": "[encoded data removed]",
      "text/plain": [
       "<matplotlib.figure.Figure at 0x7fe35f40e9b0>"
      ]
     },
     "metadata": {},
     "output_type": "display_data"
    }
   ],
   "source": [
    "plt.scatter(lm.predict(X_train), lm.predict(X_train)-Y_train, c='b', s=40, alpha=0.5)\n",
    "plt.scatter(lm.predict(X_test), lm.predict(X_test)-Y_test, c='g', s=40)\n",
    "plt.hlines(y=0, xmin=0, xmax=50)\n",
    "plt.title('Residual plot using training(blue) and test(green) data')\n",
    "plt.ylabel('Residuals')"
   ]
  },
  {
   "cell_type": "markdown",
   "metadata": {},
   "source": [
    "*Bardziej formalnym sposobem sprawdzenia normalności rozkładu reszt jest wykonanie testu normalności rozkładu*"
   ]
  },
  {
   "cell_type": "code",
   "execution_count": 17,
   "metadata": {},
   "outputs": [
    {
     "name": "stdout",
     "output_type": "stream",
     "text": [
      "p = 0.411313\n"
     ]
    }
   ],
   "source": [
    "from scipy import stats\n",
    "x = lm.predict(X_test)-Y_test\n",
    "#x = lm.predict(X_train)-Y_train\n",
    "k2, p = stats.normaltest(x)\n",
    "alpha = 1e-3\n",
    "print(\"p = {:g}\".format(p))"
   ]
  },
  {
   "cell_type": "code",
   "execution_count": 18,
   "metadata": {},
   "outputs": [
    {
     "name": "stdout",
     "output_type": "stream",
     "text": [
      "Brak podstaw do odrzucenia hipotezy zerowej\n"
     ]
    }
   ],
   "source": [
    "if p < alpha:  # null hypothesis: x comes from a normal distribution\n",
    "    print(\"Hipoteza zerowa może być odrzucona\")\n",
    "else:\n",
    "    print(\"Brak podstaw do odrzucenia hipotezy zerowej\")"
   ]
  }
 ],
 "metadata": {
  "kernelspec": {
   "display_name": "Python 3",
   "language": "python",
   "name": "python3"
  },
  "language_info": {
   "codemirror_mode": {
    "name": "ipython",
    "version": 3
   },
   "file_extension": ".py",
   "mimetype": "text/x-python",
   "name": "python",
   "nbconvert_exporter": "python",
   "pygments_lexer": "ipython3",
   "version": "3.5.2"
  }
 },
 "nbformat": 4,
 "nbformat_minor": 2
}
