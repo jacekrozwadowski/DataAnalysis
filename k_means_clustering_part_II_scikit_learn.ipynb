{
 "cells": [
  {
   "cell_type": "markdown",
   "metadata": {},
   "source": [
    "# Algorytm k średnich (centroidów) - część II\n",
    "\n",
    "15 grudzień 2017\n",
    "\n",
    "#### Wstęp\n",
    "\n",
    "W części pierwszej udało nam się podzielić dane na 4 klastry wg osoby kierującej pojazdem. W tej części spróbujemy rozpoznać kierunek w jakim patrzy kierowca czyli naszym celem będzie przewidzenie podziału wg. kolumny label. Aby to jednak było możliwe musimy arbitralnie wybrać osobę którą będziemy rozpatrywać.\n",
    "\n",
    "Prezentowany materiał zakłada znajomość podstaw pythona i statystyki.\n",
    "\n",
    "\n",
    "#### Narzędzia\n",
    "\n",
    "Do budowy modelu, analizy i prezentacji wyników użyty zostanie pakiet narzędzi scikit-learn, numpy, pandas oraz matplotlib."
   ]
  },
  {
   "cell_type": "markdown",
   "metadata": {},
   "source": [
    "*Importujemy wszystkie potrzebne biblioteki*"
   ]
  },
  {
   "cell_type": "code",
   "execution_count": 1,
   "metadata": {},
   "outputs": [],
   "source": [
    "import numpy as np\n",
    "import pandas as pd\n",
    "from scipy.cluster.vq import kmeans\n",
    "from scipy.spatial.distance import cdist,pdist\n",
    "from sklearn import datasets\n",
    "from sklearn.decomposition import TruncatedSVD\n",
    "from sklearn.decomposition import PCA\n",
    "from sklearn.cluster import MiniBatchKMeans\n",
    "\n",
    "from matplotlib import pyplot as plt\n",
    "from matplotlib import cm\n",
    "from sklearn.metrics.pairwise import pairwise_distances_argmin\n",
    "\n",
    "import seaborn as sns"
   ]
  },
  {
   "cell_type": "markdown",
   "metadata": {},
   "source": [
    "*Dane wejściowe pochodzą ze zbioru danych UCI (https://archive.ics.uci.edu/ml/datasets/DrivFace) i zawierają sekwencję obrazów 4 kierowców (zmienna subject) w realnych sytuacjach drogowych z klasyfikacją kierunku w jakim kierowca spogląda (lewo/na wprost/prawo) (zmienna label). Jest to ten sam zbiór danych co w części pierwszej. Jednak tym razem musimy zawęzić dane wejściowe do jednej osoby - w naszym przypadku będzie to osoba nr 2*"
   ]
  },
  {
   "cell_type": "code",
   "execution_count": 2,
   "metadata": {},
   "outputs": [
    {
     "data": {
      "text/html": [
       "<div>\n",
       "<style scoped>\n",
       "    .dataframe tbody tr th:only-of-type {\n",
       "        vertical-align: middle;\n",
       "    }\n",
       "\n",
       "    .dataframe tbody tr th {\n",
       "        vertical-align: top;\n",
       "    }\n",
       "\n",
       "    .dataframe thead th {\n",
       "        text-align: right;\n",
       "    }\n",
       "</style>\n",
       "<table border=\"1\" class=\"dataframe\">\n",
       "  <thead>\n",
       "    <tr style=\"text-align: right;\">\n",
       "      <th></th>\n",
       "      <th>fileName</th>\n",
       "      <th>subject</th>\n",
       "      <th>imgNum</th>\n",
       "      <th>label</th>\n",
       "      <th>ang</th>\n",
       "      <th>xF</th>\n",
       "      <th>yF</th>\n",
       "      <th>wF</th>\n",
       "      <th>hF</th>\n",
       "      <th>xRE</th>\n",
       "      <th>yRE</th>\n",
       "      <th>xLE</th>\n",
       "      <th>yLE</th>\n",
       "      <th>xN</th>\n",
       "      <th>yN</th>\n",
       "      <th>xRM</th>\n",
       "      <th>yRM</th>\n",
       "      <th>xLM</th>\n",
       "      <th>yLM</th>\n",
       "    </tr>\n",
       "  </thead>\n",
       "  <tbody>\n",
       "    <tr>\n",
       "      <th>179</th>\n",
       "      <td>20130529_02_Driv_001_f</td>\n",
       "      <td>2</td>\n",
       "      <td>1</td>\n",
       "      <td>2</td>\n",
       "      <td>15</td>\n",
       "      <td>306</td>\n",
       "      <td>161</td>\n",
       "      <td>111</td>\n",
       "      <td>125</td>\n",
       "      <td>347</td>\n",
       "      <td>187</td>\n",
       "      <td>396</td>\n",
       "      <td>189</td>\n",
       "      <td>380</td>\n",
       "      <td>210</td>\n",
       "      <td>361</td>\n",
       "      <td>237</td>\n",
       "      <td>390</td>\n",
       "      <td>237</td>\n",
       "    </tr>\n",
       "    <tr>\n",
       "      <th>180</th>\n",
       "      <td>20130529_02_Driv_002_f</td>\n",
       "      <td>2</td>\n",
       "      <td>2</td>\n",
       "      <td>2</td>\n",
       "      <td>15</td>\n",
       "      <td>315</td>\n",
       "      <td>164</td>\n",
       "      <td>101</td>\n",
       "      <td>122</td>\n",
       "      <td>347</td>\n",
       "      <td>187</td>\n",
       "      <td>394</td>\n",
       "      <td>189</td>\n",
       "      <td>381</td>\n",
       "      <td>209</td>\n",
       "      <td>357</td>\n",
       "      <td>240</td>\n",
       "      <td>390</td>\n",
       "      <td>240</td>\n",
       "    </tr>\n",
       "    <tr>\n",
       "      <th>181</th>\n",
       "      <td>20130529_02_Driv_003_f</td>\n",
       "      <td>2</td>\n",
       "      <td>3</td>\n",
       "      <td>2</td>\n",
       "      <td>15</td>\n",
       "      <td>304</td>\n",
       "      <td>164</td>\n",
       "      <td>112</td>\n",
       "      <td>127</td>\n",
       "      <td>344</td>\n",
       "      <td>189</td>\n",
       "      <td>391</td>\n",
       "      <td>190</td>\n",
       "      <td>378</td>\n",
       "      <td>209</td>\n",
       "      <td>356</td>\n",
       "      <td>241</td>\n",
       "      <td>387</td>\n",
       "      <td>242</td>\n",
       "    </tr>\n",
       "    <tr>\n",
       "      <th>182</th>\n",
       "      <td>20130529_02_Driv_004_f</td>\n",
       "      <td>2</td>\n",
       "      <td>4</td>\n",
       "      <td>2</td>\n",
       "      <td>15</td>\n",
       "      <td>301</td>\n",
       "      <td>166</td>\n",
       "      <td>112</td>\n",
       "      <td>128</td>\n",
       "      <td>341</td>\n",
       "      <td>192</td>\n",
       "      <td>393</td>\n",
       "      <td>194</td>\n",
       "      <td>377</td>\n",
       "      <td>213</td>\n",
       "      <td>356</td>\n",
       "      <td>244</td>\n",
       "      <td>384</td>\n",
       "      <td>243</td>\n",
       "    </tr>\n",
       "    <tr>\n",
       "      <th>183</th>\n",
       "      <td>20130529_02_Driv_005_f</td>\n",
       "      <td>2</td>\n",
       "      <td>5</td>\n",
       "      <td>2</td>\n",
       "      <td>15</td>\n",
       "      <td>300</td>\n",
       "      <td>168</td>\n",
       "      <td>118</td>\n",
       "      <td>125</td>\n",
       "      <td>341</td>\n",
       "      <td>193</td>\n",
       "      <td>388</td>\n",
       "      <td>194</td>\n",
       "      <td>377</td>\n",
       "      <td>215</td>\n",
       "      <td>354</td>\n",
       "      <td>246</td>\n",
       "      <td>384</td>\n",
       "      <td>247</td>\n",
       "    </tr>\n",
       "  </tbody>\n",
       "</table>\n",
       "</div>"
      ],
      "text/plain": [
       "                    fileName  subject  imgNum  label  ang   xF   yF   wF   hF  \\\n",
       "179  20130529_02_Driv_001_f         2       1      2   15  306  161  111  125   \n",
       "180  20130529_02_Driv_002_f         2       2      2   15  315  164  101  122   \n",
       "181  20130529_02_Driv_003_f         2       3      2   15  304  164  112  127   \n",
       "182  20130529_02_Driv_004_f         2       4      2   15  301  166  112  128   \n",
       "183  20130529_02_Driv_005_f         2       5      2   15  300  168  118  125   \n",
       "\n",
       "     xRE  yRE  xLE  yLE   xN   yN  xRM  yRM  xLM  yLM  \n",
       "179  347  187  396  189  380  210  361  237  390  237  \n",
       "180  347  187  394  189  381  209  357  240  390  240  \n",
       "181  344  189  391  190  378  209  356  241  387  242  \n",
       "182  341  192  393  194  377  213  356  244  384  243  \n",
       "183  341  193  388  194  377  215  354  246  384  247  "
      ]
     },
     "execution_count": 2,
     "metadata": {},
     "output_type": "execute_result"
    }
   ],
   "source": [
    "# Load CSV and columns\n",
    "df = pd.read_csv(\"drivPoints.txt\")\n",
    "\n",
    "df = df[df['subject']==2]\n",
    "\n",
    "df.head(n=5)"
   ]
  },
  {
   "cell_type": "markdown",
   "metadata": {},
   "source": [
    "*Przed dalszą analizą rzut oka na dane. Widzimy dużą dysproporcje w ilości danych dla kierunku \"na wprost\" - 146 obrazów i jednie 14 i 10 obrazów dla kierunku lewo/prawo*"
   ]
  },
  {
   "cell_type": "code",
   "execution_count": 3,
   "metadata": {},
   "outputs": [
    {
     "data": {
      "text/html": [
       "<div>\n",
       "<style scoped>\n",
       "    .dataframe tbody tr th:only-of-type {\n",
       "        vertical-align: middle;\n",
       "    }\n",
       "\n",
       "    .dataframe tbody tr th {\n",
       "        vertical-align: top;\n",
       "    }\n",
       "\n",
       "    .dataframe thead tr th {\n",
       "        text-align: left;\n",
       "    }\n",
       "\n",
       "    .dataframe thead tr:last-of-type th {\n",
       "        text-align: right;\n",
       "    }\n",
       "</style>\n",
       "<table border=\"1\" class=\"dataframe\">\n",
       "  <thead>\n",
       "    <tr>\n",
       "      <th></th>\n",
       "      <th colspan=\"8\" halign=\"left\">ang</th>\n",
       "      <th colspan=\"2\" halign=\"left\">hF</th>\n",
       "      <th>...</th>\n",
       "      <th colspan=\"2\" halign=\"left\">yRE</th>\n",
       "      <th colspan=\"8\" halign=\"left\">yRM</th>\n",
       "    </tr>\n",
       "    <tr>\n",
       "      <th></th>\n",
       "      <th>count</th>\n",
       "      <th>mean</th>\n",
       "      <th>std</th>\n",
       "      <th>min</th>\n",
       "      <th>25%</th>\n",
       "      <th>50%</th>\n",
       "      <th>75%</th>\n",
       "      <th>max</th>\n",
       "      <th>count</th>\n",
       "      <th>mean</th>\n",
       "      <th>...</th>\n",
       "      <th>75%</th>\n",
       "      <th>max</th>\n",
       "      <th>count</th>\n",
       "      <th>mean</th>\n",
       "      <th>std</th>\n",
       "      <th>min</th>\n",
       "      <th>25%</th>\n",
       "      <th>50%</th>\n",
       "      <th>75%</th>\n",
       "      <th>max</th>\n",
       "    </tr>\n",
       "    <tr>\n",
       "      <th>label</th>\n",
       "      <th></th>\n",
       "      <th></th>\n",
       "      <th></th>\n",
       "      <th></th>\n",
       "      <th></th>\n",
       "      <th></th>\n",
       "      <th></th>\n",
       "      <th></th>\n",
       "      <th></th>\n",
       "      <th></th>\n",
       "      <th></th>\n",
       "      <th></th>\n",
       "      <th></th>\n",
       "      <th></th>\n",
       "      <th></th>\n",
       "      <th></th>\n",
       "      <th></th>\n",
       "      <th></th>\n",
       "      <th></th>\n",
       "      <th></th>\n",
       "      <th></th>\n",
       "    </tr>\n",
       "  </thead>\n",
       "  <tbody>\n",
       "    <tr>\n",
       "      <th>1</th>\n",
       "      <td>14.0</td>\n",
       "      <td>-36.428571</td>\n",
       "      <td>7.703289</td>\n",
       "      <td>-45.0</td>\n",
       "      <td>-45.0</td>\n",
       "      <td>-30.0</td>\n",
       "      <td>-30.0</td>\n",
       "      <td>-30.0</td>\n",
       "      <td>14.0</td>\n",
       "      <td>134.071429</td>\n",
       "      <td>...</td>\n",
       "      <td>186.75</td>\n",
       "      <td>189.0</td>\n",
       "      <td>14.0</td>\n",
       "      <td>234.785714</td>\n",
       "      <td>2.913591</td>\n",
       "      <td>229.0</td>\n",
       "      <td>233.25</td>\n",
       "      <td>235.5</td>\n",
       "      <td>236.75</td>\n",
       "      <td>239.0</td>\n",
       "    </tr>\n",
       "    <tr>\n",
       "      <th>2</th>\n",
       "      <td>146.0</td>\n",
       "      <td>7.808219</td>\n",
       "      <td>8.669658</td>\n",
       "      <td>-15.0</td>\n",
       "      <td>0.0</td>\n",
       "      <td>15.0</td>\n",
       "      <td>15.0</td>\n",
       "      <td>15.0</td>\n",
       "      <td>146.0</td>\n",
       "      <td>130.013699</td>\n",
       "      <td>...</td>\n",
       "      <td>202.00</td>\n",
       "      <td>214.0</td>\n",
       "      <td>146.0</td>\n",
       "      <td>241.390411</td>\n",
       "      <td>9.774261</td>\n",
       "      <td>221.0</td>\n",
       "      <td>233.25</td>\n",
       "      <td>241.0</td>\n",
       "      <td>250.00</td>\n",
       "      <td>262.0</td>\n",
       "    </tr>\n",
       "    <tr>\n",
       "      <th>3</th>\n",
       "      <td>10.0</td>\n",
       "      <td>36.000000</td>\n",
       "      <td>7.745967</td>\n",
       "      <td>30.0</td>\n",
       "      <td>30.0</td>\n",
       "      <td>30.0</td>\n",
       "      <td>45.0</td>\n",
       "      <td>45.0</td>\n",
       "      <td>10.0</td>\n",
       "      <td>139.400000</td>\n",
       "      <td>...</td>\n",
       "      <td>185.75</td>\n",
       "      <td>195.0</td>\n",
       "      <td>10.0</td>\n",
       "      <td>233.800000</td>\n",
       "      <td>3.425395</td>\n",
       "      <td>229.0</td>\n",
       "      <td>232.00</td>\n",
       "      <td>234.5</td>\n",
       "      <td>235.00</td>\n",
       "      <td>240.0</td>\n",
       "    </tr>\n",
       "  </tbody>\n",
       "</table>\n",
       "<p>3 rows × 136 columns</p>\n",
       "</div>"
      ],
      "text/plain": [
       "         ang                                                        hF  \\\n",
       "       count       mean       std   min   25%   50%   75%   max  count   \n",
       "label                                                                    \n",
       "1       14.0 -36.428571  7.703289 -45.0 -45.0 -30.0 -30.0 -30.0   14.0   \n",
       "2      146.0   7.808219  8.669658 -15.0   0.0  15.0  15.0  15.0  146.0   \n",
       "3       10.0  36.000000  7.745967  30.0  30.0  30.0  45.0  45.0   10.0   \n",
       "\n",
       "                   ...       yRE           yRM                               \\\n",
       "             mean  ...       75%    max  count        mean       std    min   \n",
       "label              ...                                                        \n",
       "1      134.071429  ...    186.75  189.0   14.0  234.785714  2.913591  229.0   \n",
       "2      130.013699  ...    202.00  214.0  146.0  241.390411  9.774261  221.0   \n",
       "3      139.400000  ...    185.75  195.0   10.0  233.800000  3.425395  229.0   \n",
       "\n",
       "                                     \n",
       "          25%    50%     75%    max  \n",
       "label                                \n",
       "1      233.25  235.5  236.75  239.0  \n",
       "2      233.25  241.0  250.00  262.0  \n",
       "3      232.00  234.5  235.00  240.0  \n",
       "\n",
       "[3 rows x 136 columns]"
      ]
     },
     "execution_count": 3,
     "metadata": {},
     "output_type": "execute_result"
    }
   ],
   "source": [
    "df.groupby('label').describe()"
   ]
  },
  {
   "cell_type": "markdown",
   "metadata": {},
   "source": [
    "*Wybieramy dane na podstawie których algorytm będzie tworzył grupy. Są to te same dane co w części pierwszej*"
   ]
  },
  {
   "cell_type": "code",
   "execution_count": 4,
   "metadata": {},
   "outputs": [
    {
     "data": {
      "text/html": [
       "<div>\n",
       "<style scoped>\n",
       "    .dataframe tbody tr th:only-of-type {\n",
       "        vertical-align: middle;\n",
       "    }\n",
       "\n",
       "    .dataframe tbody tr th {\n",
       "        vertical-align: top;\n",
       "    }\n",
       "\n",
       "    .dataframe thead th {\n",
       "        text-align: right;\n",
       "    }\n",
       "</style>\n",
       "<table border=\"1\" class=\"dataframe\">\n",
       "  <thead>\n",
       "    <tr style=\"text-align: right;\">\n",
       "      <th></th>\n",
       "      <th>ang</th>\n",
       "      <th>xF</th>\n",
       "      <th>yF</th>\n",
       "      <th>wF</th>\n",
       "      <th>hF</th>\n",
       "      <th>xRE</th>\n",
       "      <th>yRE</th>\n",
       "      <th>xLE</th>\n",
       "      <th>yLE</th>\n",
       "      <th>xN</th>\n",
       "      <th>yN</th>\n",
       "      <th>xRM</th>\n",
       "      <th>yRM</th>\n",
       "      <th>xLM</th>\n",
       "      <th>yLM</th>\n",
       "    </tr>\n",
       "  </thead>\n",
       "  <tbody>\n",
       "    <tr>\n",
       "      <th>179</th>\n",
       "      <td>15.0</td>\n",
       "      <td>306.0</td>\n",
       "      <td>161.0</td>\n",
       "      <td>111.0</td>\n",
       "      <td>125.0</td>\n",
       "      <td>347.0</td>\n",
       "      <td>187.0</td>\n",
       "      <td>396.0</td>\n",
       "      <td>189.0</td>\n",
       "      <td>380.0</td>\n",
       "      <td>210.0</td>\n",
       "      <td>361.0</td>\n",
       "      <td>237.0</td>\n",
       "      <td>390.0</td>\n",
       "      <td>237.0</td>\n",
       "    </tr>\n",
       "    <tr>\n",
       "      <th>180</th>\n",
       "      <td>15.0</td>\n",
       "      <td>315.0</td>\n",
       "      <td>164.0</td>\n",
       "      <td>101.0</td>\n",
       "      <td>122.0</td>\n",
       "      <td>347.0</td>\n",
       "      <td>187.0</td>\n",
       "      <td>394.0</td>\n",
       "      <td>189.0</td>\n",
       "      <td>381.0</td>\n",
       "      <td>209.0</td>\n",
       "      <td>357.0</td>\n",
       "      <td>240.0</td>\n",
       "      <td>390.0</td>\n",
       "      <td>240.0</td>\n",
       "    </tr>\n",
       "    <tr>\n",
       "      <th>181</th>\n",
       "      <td>15.0</td>\n",
       "      <td>304.0</td>\n",
       "      <td>164.0</td>\n",
       "      <td>112.0</td>\n",
       "      <td>127.0</td>\n",
       "      <td>344.0</td>\n",
       "      <td>189.0</td>\n",
       "      <td>391.0</td>\n",
       "      <td>190.0</td>\n",
       "      <td>378.0</td>\n",
       "      <td>209.0</td>\n",
       "      <td>356.0</td>\n",
       "      <td>241.0</td>\n",
       "      <td>387.0</td>\n",
       "      <td>242.0</td>\n",
       "    </tr>\n",
       "    <tr>\n",
       "      <th>182</th>\n",
       "      <td>15.0</td>\n",
       "      <td>301.0</td>\n",
       "      <td>166.0</td>\n",
       "      <td>112.0</td>\n",
       "      <td>128.0</td>\n",
       "      <td>341.0</td>\n",
       "      <td>192.0</td>\n",
       "      <td>393.0</td>\n",
       "      <td>194.0</td>\n",
       "      <td>377.0</td>\n",
       "      <td>213.0</td>\n",
       "      <td>356.0</td>\n",
       "      <td>244.0</td>\n",
       "      <td>384.0</td>\n",
       "      <td>243.0</td>\n",
       "    </tr>\n",
       "    <tr>\n",
       "      <th>183</th>\n",
       "      <td>15.0</td>\n",
       "      <td>300.0</td>\n",
       "      <td>168.0</td>\n",
       "      <td>118.0</td>\n",
       "      <td>125.0</td>\n",
       "      <td>341.0</td>\n",
       "      <td>193.0</td>\n",
       "      <td>388.0</td>\n",
       "      <td>194.0</td>\n",
       "      <td>377.0</td>\n",
       "      <td>215.0</td>\n",
       "      <td>354.0</td>\n",
       "      <td>246.0</td>\n",
       "      <td>384.0</td>\n",
       "      <td>247.0</td>\n",
       "    </tr>\n",
       "  </tbody>\n",
       "</table>\n",
       "</div>"
      ],
      "text/plain": [
       "      ang     xF     yF     wF     hF    xRE    yRE    xLE    yLE     xN  \\\n",
       "179  15.0  306.0  161.0  111.0  125.0  347.0  187.0  396.0  189.0  380.0   \n",
       "180  15.0  315.0  164.0  101.0  122.0  347.0  187.0  394.0  189.0  381.0   \n",
       "181  15.0  304.0  164.0  112.0  127.0  344.0  189.0  391.0  190.0  378.0   \n",
       "182  15.0  301.0  166.0  112.0  128.0  341.0  192.0  393.0  194.0  377.0   \n",
       "183  15.0  300.0  168.0  118.0  125.0  341.0  193.0  388.0  194.0  377.0   \n",
       "\n",
       "        yN    xRM    yRM    xLM    yLM  \n",
       "179  210.0  361.0  237.0  390.0  237.0  \n",
       "180  209.0  357.0  240.0  390.0  240.0  \n",
       "181  209.0  356.0  241.0  387.0  242.0  \n",
       "182  213.0  356.0  244.0  384.0  243.0  \n",
       "183  215.0  354.0  246.0  384.0  247.0  "
      ]
     },
     "execution_count": 4,
     "metadata": {},
     "output_type": "execute_result"
    }
   ],
   "source": [
    "X = df[['ang','xF','yF','wF','hF','xRE','yRE','xLE','yLE','xN','yN','xRM','yRM','xLM','yLM']]\n",
    "labels = df['label']\n",
    "X = X.astype(float)\n",
    "\n",
    "X.head()"
   ]
  },
  {
   "cell_type": "markdown",
   "metadata": {},
   "source": [
    "*Przygotowujemy dane pod krzywą łokciową*"
   ]
  },
  {
   "cell_type": "code",
   "execution_count": 5,
   "metadata": {},
   "outputs": [],
   "source": [
    "from scipy.cluster.vq import kmeans,vq\n",
    "from scipy.spatial.distance import cdist\n",
    "\n",
    "\n",
    "K = range(1,10)\n",
    "\n",
    "# scipy.cluster.vq.kmeans\n",
    "KM = [kmeans(X,k) for k in K] # apply kmeans 1 to 10\n",
    "centroids = [cent for (cent,var) in KM]   # cluster centroids\n",
    "\n",
    "D_k = [cdist(X, cent, 'euclidean') for cent in centroids]\n",
    "\n",
    "cIdx = [np.argmin(D,axis=1) for D in D_k]\n",
    "dist = [np.min(D,axis=1) for D in D_k]\n",
    "avgWithinSS = [sum(d)/X.shape[0] for d in dist]"
   ]
  },
  {
   "cell_type": "markdown",
   "metadata": {},
   "source": [
    "*Ponieważ z góry znamy liczbę klastrów możemy od razu zapezentować ichliczbę na wykresie. Wykres pojawi się na końcu w zbiorczym, graficznym zestawieniu danych*"
   ]
  },
  {
   "cell_type": "code",
   "execution_count": 6,
   "metadata": {},
   "outputs": [
    {
     "data": {
      "text/plain": [
       "Text(0.5,1,'Elbow for K-Means clustering')"
      ]
     },
     "execution_count": 6,
     "metadata": {},
     "output_type": "execute_result"
    }
   ],
   "source": [
    "sns.set()\n",
    "kIdx = 2\n",
    "# plot elbow curve\n",
    "\n",
    "fig, axs = plt.subplots(2, 2, figsize=(20, 10))\n",
    "\n",
    "plt.suptitle('Super title', fontsize=16)\n",
    "\n",
    "axs[0, 0].plot(K, avgWithinSS, 'b*-')\n",
    "axs[0, 0].plot(K[kIdx], avgWithinSS[kIdx], marker='o', markersize=12, \n",
    "      markeredgewidth=2, markeredgecolor='r', markerfacecolor='None')\n",
    "axs[0, 0].grid(True)\n",
    "axs[0, 0].set_xlabel('Number of clusters')\n",
    "axs[0, 0].set_ylabel('Average sum of squares')\n",
    "axs[0, 0].set_title('Elbow for K-Means clustering')"
   ]
  },
  {
   "cell_type": "markdown",
   "metadata": {},
   "source": [
    "*Do celów prezentacji redukujemy liczbę wymiarów do 2. Widzimy, że redukcja nie spowodowała znaczącej utraty informacji. Ciągle dysponujemy 94% informacji wejściowych*"
   ]
  },
  {
   "cell_type": "code",
   "execution_count": 7,
   "metadata": {},
   "outputs": [
    {
     "name": "stdout",
     "output_type": "stream",
     "text": [
      "Explained variance of the SVD step: 94%\n"
     ]
    }
   ],
   "source": [
    "pca = PCA(n_components=2, svd_solver='randomized').fit(X)\n",
    "X_2d = pca.transform(X)\n",
    "\n",
    "explained_variance = pca.explained_variance_ratio_.sum()\n",
    "print(\"Explained variance of the SVD step: {}%\".format(int(explained_variance * 100)))"
   ]
  },
  {
   "cell_type": "markdown",
   "metadata": {},
   "source": [
    "*Na drugim wykresie prezentujemy dane rzeczywiste. Będziemy mogli w prosty sposób wizualnie ocenić jakość działania algorytmu*"
   ]
  },
  {
   "cell_type": "code",
   "execution_count": 8,
   "metadata": {},
   "outputs": [
    {
     "data": {
      "text/plain": [
       "Text(0.5,1,'Real Data')"
      ]
     },
     "execution_count": 8,
     "metadata": {},
     "output_type": "execute_result"
    }
   ],
   "source": [
    "axs[0, 1].scatter(X_2d[:,0], X_2d[:,1], c=labels, s=30, cmap=plt.cm.Paired)\n",
    "#ax.colorbar()\n",
    "axs[0, 1].set_xlabel('PC1')\n",
    "axs[0, 1].set_ylabel('PC2')\n",
    "axs[0, 1].set_title('Real Data')\n",
    "\n",
    "#plt.show()"
   ]
  },
  {
   "cell_type": "markdown",
   "metadata": {},
   "source": [
    "*Tworzymy model i wykonujemy podział. Liczbę klastrów ustawiamy na 3 (n_clusters=3)*"
   ]
  },
  {
   "cell_type": "code",
   "execution_count": 9,
   "metadata": {},
   "outputs": [],
   "source": [
    "mbk = MiniBatchKMeans(n_clusters=3, init='k-means++', n_init=1,\n",
    "                     init_size=1000, batch_size=1000, verbose=False)\n",
    "\n",
    "labels_pred = mbk.fit_predict(X_2d)"
   ]
  },
  {
   "cell_type": "markdown",
   "metadata": {},
   "source": [
    "*Przygotowujemy wizualizację danych po podziale na klastry*"
   ]
  },
  {
   "cell_type": "code",
   "execution_count": 10,
   "metadata": {},
   "outputs": [
    {
     "data": {
      "text/plain": [
       "Text(0.5,1,'Predicted Data')"
      ]
     },
     "execution_count": 10,
     "metadata": {},
     "output_type": "execute_result"
    }
   ],
   "source": [
    "axs[1, 0].scatter(X_2d[:,0], X_2d[:,1], c=labels_pred, s=20, cmap=plt.cm.Paired)\n",
    "#plt.colorbar()\n",
    "axs[1, 0].set_xlabel('PC1')\n",
    "axs[1, 0].set_ylabel('PC2')\n",
    "axs[1, 0].set_title('Predicted Data')"
   ]
  },
  {
   "cell_type": "markdown",
   "metadata": {},
   "source": [
    "*Na ostatnim wykresie prezentujmy podział na klastry wraz z ich centroidami. Jak widzimy dane rzeczywiste i nasz podział różnia się od siebie zwłaszcza jeżeli chodzi o kierunki lewy/prawy dla których liczba danych była znacznie mniejsza*"
   ]
  },
  {
   "cell_type": "code",
   "execution_count": 11,
   "metadata": {},
   "outputs": [
    {
     "data": {
      "image/png": "[encoded data removed]",
      "text/plain": [
       "<matplotlib.figure.Figure at 0x7fd06026dfd0>"
      ]
     },
     "metadata": {},
     "output_type": "display_data"
    }
   ],
   "source": [
    "mbk_means_cluster_centers = np.sort(mbk.cluster_centers_, axis=0)\n",
    "mbk_means_labels = pairwise_distances_argmin(X_2d, mbk_means_cluster_centers)\n",
    "\n",
    "colors = ['brown', 'blue', 'orange']\n",
    "n_clusters = 3\n",
    "\n",
    "for k, col in zip(range(n_clusters), colors):\n",
    "    my_members = mbk_means_labels == k\n",
    "    cluster_center = mbk_means_cluster_centers[k]\n",
    "    axs[1, 1].plot(X_2d[my_members, 0], X_2d[my_members, 1], 'w', markerfacecolor=col, marker='o')\n",
    "    axs[1, 1].plot(cluster_center[0], cluster_center[1], 'o', markerfacecolor=col, markeredgecolor='k', markersize=25)\n",
    "\n",
    "axs[1, 1].set_xlabel('PC1')\n",
    "axs[1, 1].set_ylabel('PC2')\n",
    "axs[1, 1].set_title('Predicted Data + Centroids')\n",
    "\n",
    "\n",
    "plt.show()"
   ]
  },
  {
   "cell_type": "markdown",
   "metadata": {},
   "source": [
    "*Rzut oka na jednorodność (Homogeneity) i kompletność (Completeness) i widzimy, że nie jest to najlepsze klastrowanie. Niska kompletność wskazuje na mieszanie się klas co widzimy na rysunku 2 i 3.*"
   ]
  },
  {
   "cell_type": "code",
   "execution_count": 12,
   "metadata": {},
   "outputs": [
    {
     "name": "stdout",
     "output_type": "stream",
     "text": [
      "Homogeneity: 0.457\n",
      "Completeness: 0.280\n",
      "V-measure: 0.347\n",
      "Adjusted Rand-Index: 0.362\n",
      "Silhouette Coefficient: 0.510\n",
      "\n"
     ]
    }
   ],
   "source": [
    "from sklearn import metrics\n",
    "\n",
    "print(\"Homogeneity: %0.3f\" % metrics.homogeneity_score(labels, mbk.labels_))\n",
    "print(\"Completeness: %0.3f\" % metrics.completeness_score(labels, mbk.labels_))\n",
    "print(\"V-measure: %0.3f\" % metrics.v_measure_score(labels, mbk.labels_))\n",
    "print(\"Adjusted Rand-Index: %.3f\"\n",
    "      % metrics.adjusted_rand_score(labels, mbk.labels_))\n",
    "print(\"Silhouette Coefficient: %0.3f\"\n",
    "      % metrics.silhouette_score(X_2d, mbk.labels_, sample_size=1000))\n",
    "\n",
    "print()"
   ]
  }
 ],
 "metadata": {
  "kernelspec": {
   "display_name": "Python 3",
   "language": "python",
   "name": "python3"
  },
  "language_info": {
   "codemirror_mode": {
    "name": "ipython",
    "version": 3
   },
   "file_extension": ".py",
   "mimetype": "text/x-python",
   "name": "python",
   "nbconvert_exporter": "python",
   "pygments_lexer": "ipython3",
   "version": "3.5.2"
  }
 },
 "nbformat": 4,
 "nbformat_minor": 2
}
